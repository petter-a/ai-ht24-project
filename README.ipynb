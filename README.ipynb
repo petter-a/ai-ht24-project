{
 "cells": [
  {
   "cell_type": "markdown",
   "metadata": {},
   "source": [
    "# Stock analysis\n",
    "\n",
    "The purpose of the project is to provide technical analysis and stock price prediction.\n",
    "\n",
    "# Features\n",
    "    * Stock statistics and price development for all stocks in the US S&P500 index.\n",
    "    * Time period filtering\n",
    "    * Stock price prediction\n",
    "    * Basic technical analysis (Stock/Sectors/Index)\n",
    "        * SMA\n",
    "        * EMA\n",
    "    * Top 10 stocks/sectors based on value increase over time\n",
    "    * Buy/Sell signals\n",
    "\n",
    "# Data\n",
    "    * kagglehub dataset sp-500-stocks (updated daily)\n",
    "    * The data extends 24 years\n",
    "\n",
    "# Method\n",
    "Prediction is performed using the LSTM (long short-term memory) neural network model.\n",
    "The dataset is updated every 24h with new predictions.\n",
    "\n"
   ]
  }
 ],
 "metadata": {
  "language_info": {
   "name": "python"
  }
 },
 "nbformat": 4,
 "nbformat_minor": 2
}
