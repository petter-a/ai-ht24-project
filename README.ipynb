{
 "cells": [
  {
   "cell_type": "markdown",
   "metadata": {},
   "source": [
    "# Stock analysis\n",
    "\n",
    "The purpose of the project is to provide technical analysis and stock price prediction.\n",
    "\n",
    "# Features\n",
    "\n",
    "    * Filtering\n",
    "    * Stock price prediction\n",
    "    * Basic technical analysis (Stock/Category/Index)\n",
    "        * SMA\n",
    "        * EMA\n",
    "    * Top 10 stocks/categories based on value increase over time\n",
    "    * Buy/Sell signals\n",
    "\n",
    "# Data\n",
    "\n",
    "    * Stock data is collected from the kagglehub dataset sp-500-stocks (updated daily)\n",
    "    * The data extends 24 years\n"
   ]
  }
 ],
 "metadata": {
  "language_info": {
   "name": "python"
  }
 },
 "nbformat": 4,
 "nbformat_minor": 2
}
