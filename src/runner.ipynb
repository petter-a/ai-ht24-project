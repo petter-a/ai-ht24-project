{
 "cells": [
  {
   "cell_type": "markdown",
   "metadata": {},
   "source": [
    "Download and preprocess data"
   ]
  },
  {
   "cell_type": "code",
   "execution_count": 1,
   "metadata": {},
   "outputs": [
    {
     "name": "stderr",
     "output_type": "stream",
     "text": [
      "/Users/pean1022/github/ai-ht24-project/.venv/lib/python3.12/site-packages/tqdm/auto.py:21: TqdmWarning: IProgress not found. Please update jupyter and ipywidgets. See https://ipywidgets.readthedocs.io/en/stable/user_install.html\n",
      "  from .autonotebook import tqdm as notebook_tqdm\n"
     ]
    }
   ],
   "source": [
    "from loader import Loader \n",
    "\n",
    "# Load and prepare data\n",
    "loader = Loader().create_preprocessed_data()\n",
    "\n",
    "\n",
    "\n",
    "\n"
   ]
  },
  {
   "cell_type": "markdown",
   "metadata": {},
   "source": [
    "Train model for individual stock"
   ]
  },
  {
   "cell_type": "code",
   "execution_count": null,
   "metadata": {},
   "outputs": [
    {
     "ename": "TypeError",
     "evalue": "StockModel.__init__() missing 1 required positional argument: 'name'",
     "output_type": "error",
     "traceback": [
      "\u001b[0;31m---------------------------------------------------------------------------\u001b[0m",
      "\u001b[0;31mTypeError\u001b[0m                                 Traceback (most recent call last)",
      "Cell \u001b[0;32mIn[2], line 10\u001b[0m\n\u001b[1;32m      8\u001b[0m data \u001b[38;5;241m=\u001b[39m loader\u001b[38;5;241m.\u001b[39mget_stock_data(\u001b[38;5;124m'\u001b[39m\u001b[38;5;124mMMM\u001b[39m\u001b[38;5;124m'\u001b[39m)\n\u001b[1;32m      9\u001b[0m \u001b[38;5;66;03m# Create and save model\u001b[39;00m\n\u001b[0;32m---> 10\u001b[0m model \u001b[38;5;241m=\u001b[39m \u001b[43mStockModel\u001b[49m\u001b[43m(\u001b[49m\u001b[43mdata\u001b[49m\u001b[43m)\u001b[49m\n\u001b[1;32m     11\u001b[0m model\u001b[38;5;241m.\u001b[39mtrain_model()\u001b[38;5;241m.\u001b[39msave_model()\n",
      "\u001b[0;31mTypeError\u001b[0m: StockModel.__init__() missing 1 required positional argument: 'name'"
     ]
    }
   ],
   "source": [
    "from loader import Loader \n",
    "from model import StockModel\n",
    "\n",
    "symbol = 'MMM'\n",
    "\n",
    "# Prepared  data\n",
    "loader = Loader().load_preprocessed_data()\n",
    "# Get Stockdata\n",
    "data = loader.get_stock_data(symbol)\n",
    "# Create and save model\n",
    "model = StockModel(data, symbol)\n",
    "model.train_model().save_model()"
   ]
  },
  {
   "cell_type": "markdown",
   "metadata": {},
   "source": [
    "Plot predictions for individual stock"
   ]
  },
  {
   "cell_type": "code",
   "execution_count": null,
   "metadata": {},
   "outputs": [],
   "source": [
    "from config import DateRange\n",
    "from loader import Loader \n",
    "from plot import Plot\n",
    "\n",
    "range: DateRange = (\"2023-11-04\", None)\n",
    "# Load and prepare data\n",
    "stock = Loader().load_preprocessed_data().get_stock('NVDA')\n",
    "Plot(stock, range).draw()\n",
    "\n"
   ]
  }
 ],
 "metadata": {
  "kernelspec": {
   "display_name": ".venv",
   "language": "python",
   "name": "python3"
  },
  "language_info": {
   "codemirror_mode": {
    "name": "ipython",
    "version": 3
   },
   "file_extension": ".py",
   "mimetype": "text/x-python",
   "name": "python",
   "nbconvert_exporter": "python",
   "pygments_lexer": "ipython3",
   "version": "3.12.6"
  }
 },
 "nbformat": 4,
 "nbformat_minor": 2
}
